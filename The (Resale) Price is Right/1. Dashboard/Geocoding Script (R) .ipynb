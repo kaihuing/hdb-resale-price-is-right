{
 "cells": [
  {
   "cell_type": "markdown",
   "metadata": {},
   "source": [
    "# Geocoding Script\n",
    "This R script is used mainly to geocode each individual data point to obtain their respective longitude and latitude. This will enable us to visualise the geographic location of each resale flat sale on Tableau.\n",
    "\n",
    "Please refer to the comments in the respective code block for more details and explanations. "
   ]
  },
  {
   "cell_type": "code",
   "execution_count": 1,
   "metadata": {},
   "outputs": [
    {
     "name": "stderr",
     "output_type": "stream",
     "text": [
      "Warning message:\n",
      "\"package 'readr' was built under R version 3.6.1\"Warning message:\n",
      "\"package 'ggmap' was built under R version 3.6.1\"Loading required package: ggplot2\n",
      "Warning message:\n",
      "\"package 'ggplot2' was built under R version 3.6.1\"Google's Terms of Service: https://cloud.google.com/maps-platform/terms/.\n",
      "Please cite ggmap if you use it! See citation(\"ggmap\") for details.\n",
      "Warning message:\n",
      "\"package 'dplyr' was built under R version 3.6.1\"\n",
      "Attaching package: 'dplyr'\n",
      "\n",
      "The following objects are masked from 'package:stats':\n",
      "\n",
      "    filter, lag\n",
      "\n",
      "The following objects are masked from 'package:base':\n",
      "\n",
      "    intersect, setdiff, setequal, union\n",
      "\n"
     ]
    }
   ],
   "source": [
    "#Import and load required packages \n",
    "#Register the required Google API \n",
    "\n",
    "library(readr)\n",
    "library(ggmap) \n",
    "library(dplyr)\n",
    "\n",
    "register_google(key=\"\")"
   ]
  },
  {
   "cell_type": "code",
   "execution_count": 2,
   "metadata": {},
   "outputs": [
    {
     "name": "stderr",
     "output_type": "stream",
     "text": [
      "Warning message:\n",
      "\"Missing column names filled in: 'X1' [1]\"Parsed with column specification:\n",
      "cols(\n",
      "  X1 = col_double(),\n",
      "  month = col_character(),\n",
      "  town = col_character(),\n",
      "  flat_type = col_character(),\n",
      "  block = col_character(),\n",
      "  street_name = col_character(),\n",
      "  storey_range = col_character(),\n",
      "  floor_area_sqm = col_double(),\n",
      "  flat_model = col_character(),\n",
      "  lease_commence_date = col_double(),\n",
      "  remaining_lease = col_double(),\n",
      "  resale_price = col_double(),\n",
      "  year = col_double(),\n",
      "  months = col_double()\n",
      ")\n"
     ]
    },
    {
     "data": {
      "text/html": [
       "<table>\n",
       "<thead><tr><th scope=col>X1</th><th scope=col>month</th><th scope=col>town</th><th scope=col>flat_type</th><th scope=col>block</th><th scope=col>street_name</th><th scope=col>storey_range</th><th scope=col>floor_area_sqm</th><th scope=col>flat_model</th><th scope=col>lease_commence_date</th><th scope=col>remaining_lease</th><th scope=col>resale_price</th><th scope=col>year</th><th scope=col>months</th></tr></thead>\n",
       "<tbody>\n",
       "\t<tr><td>0                </td><td>2017-01          </td><td>ANG MO KIO       </td><td>2 ROOM           </td><td>406              </td><td>ANG MO KIO AVE 10</td><td>10 TO 12         </td><td>44               </td><td>Improved         </td><td>1979             </td><td>61.33            </td><td>232000           </td><td>61               </td><td>4                </td></tr>\n",
       "\t<tr><td>1                </td><td>2017-01          </td><td>ANG MO KIO       </td><td>3 ROOM           </td><td>108              </td><td>ANG MO KIO AVE 4 </td><td>01 TO 03         </td><td>67               </td><td>New Generation   </td><td>1978             </td><td>60.58            </td><td>250000           </td><td>60               </td><td>7                </td></tr>\n",
       "\t<tr><td>2                </td><td>2017-01          </td><td>ANG MO KIO       </td><td>3 ROOM           </td><td>602              </td><td>ANG MO KIO AVE 5 </td><td>01 TO 03         </td><td>67               </td><td>New Generation   </td><td>1980             </td><td>62.42            </td><td>262000           </td><td>62               </td><td>5                </td></tr>\n",
       "\t<tr><td>3                </td><td>2017-01          </td><td>ANG MO KIO       </td><td>3 ROOM           </td><td>465              </td><td>ANG MO KIO AVE 10</td><td>04 TO 06         </td><td>68               </td><td>New Generation   </td><td>1980             </td><td>62.08            </td><td>265000           </td><td>62               </td><td>1                </td></tr>\n",
       "\t<tr><td>4                </td><td>2017-01          </td><td>ANG MO KIO       </td><td>3 ROOM           </td><td>601              </td><td>ANG MO KIO AVE 5 </td><td>01 TO 03         </td><td>67               </td><td>New Generation   </td><td>1980             </td><td>62.42            </td><td>265000           </td><td>62               </td><td>5                </td></tr>\n",
       "\t<tr><td>5                </td><td>2017-01          </td><td>ANG MO KIO       </td><td>3 ROOM           </td><td>150              </td><td>ANG MO KIO AVE 5 </td><td>01 TO 03         </td><td>68               </td><td>New Generation   </td><td>1981             </td><td>63.00            </td><td>275000           </td><td>63               </td><td>0                </td></tr>\n",
       "</tbody>\n",
       "</table>\n"
      ],
      "text/latex": [
       "\\begin{tabular}{r|llllllllllllll}\n",
       " X1 & month & town & flat\\_type & block & street\\_name & storey\\_range & floor\\_area\\_sqm & flat\\_model & lease\\_commence\\_date & remaining\\_lease & resale\\_price & year & months\\\\\n",
       "\\hline\n",
       "\t 0                 & 2017-01           & ANG MO KIO        & 2 ROOM            & 406               & ANG MO KIO AVE 10 & 10 TO 12          & 44                & Improved          & 1979              & 61.33             & 232000            & 61                & 4                \\\\\n",
       "\t 1                 & 2017-01           & ANG MO KIO        & 3 ROOM            & 108               & ANG MO KIO AVE 4  & 01 TO 03          & 67                & New Generation    & 1978              & 60.58             & 250000            & 60                & 7                \\\\\n",
       "\t 2                 & 2017-01           & ANG MO KIO        & 3 ROOM            & 602               & ANG MO KIO AVE 5  & 01 TO 03          & 67                & New Generation    & 1980              & 62.42             & 262000            & 62                & 5                \\\\\n",
       "\t 3                 & 2017-01           & ANG MO KIO        & 3 ROOM            & 465               & ANG MO KIO AVE 10 & 04 TO 06          & 68                & New Generation    & 1980              & 62.08             & 265000            & 62                & 1                \\\\\n",
       "\t 4                 & 2017-01           & ANG MO KIO        & 3 ROOM            & 601               & ANG MO KIO AVE 5  & 01 TO 03          & 67                & New Generation    & 1980              & 62.42             & 265000            & 62                & 5                \\\\\n",
       "\t 5                 & 2017-01           & ANG MO KIO        & 3 ROOM            & 150               & ANG MO KIO AVE 5  & 01 TO 03          & 68                & New Generation    & 1981              & 63.00             & 275000            & 63                & 0                \\\\\n",
       "\\end{tabular}\n"
      ],
      "text/markdown": [
       "\n",
       "| X1 | month | town | flat_type | block | street_name | storey_range | floor_area_sqm | flat_model | lease_commence_date | remaining_lease | resale_price | year | months |\n",
       "|---|---|---|---|---|---|---|---|---|---|---|---|---|---|\n",
       "| 0                 | 2017-01           | ANG MO KIO        | 2 ROOM            | 406               | ANG MO KIO AVE 10 | 10 TO 12          | 44                | Improved          | 1979              | 61.33             | 232000            | 61                | 4                 |\n",
       "| 1                 | 2017-01           | ANG MO KIO        | 3 ROOM            | 108               | ANG MO KIO AVE 4  | 01 TO 03          | 67                | New Generation    | 1978              | 60.58             | 250000            | 60                | 7                 |\n",
       "| 2                 | 2017-01           | ANG MO KIO        | 3 ROOM            | 602               | ANG MO KIO AVE 5  | 01 TO 03          | 67                | New Generation    | 1980              | 62.42             | 262000            | 62                | 5                 |\n",
       "| 3                 | 2017-01           | ANG MO KIO        | 3 ROOM            | 465               | ANG MO KIO AVE 10 | 04 TO 06          | 68                | New Generation    | 1980              | 62.08             | 265000            | 62                | 1                 |\n",
       "| 4                 | 2017-01           | ANG MO KIO        | 3 ROOM            | 601               | ANG MO KIO AVE 5  | 01 TO 03          | 67                | New Generation    | 1980              | 62.42             | 265000            | 62                | 5                 |\n",
       "| 5                 | 2017-01           | ANG MO KIO        | 3 ROOM            | 150               | ANG MO KIO AVE 5  | 01 TO 03          | 68                | New Generation    | 1981              | 63.00             | 275000            | 63                | 0                 |\n",
       "\n"
      ],
      "text/plain": [
       "  X1 month   town       flat_type block street_name       storey_range\n",
       "1 0  2017-01 ANG MO KIO 2 ROOM    406   ANG MO KIO AVE 10 10 TO 12    \n",
       "2 1  2017-01 ANG MO KIO 3 ROOM    108   ANG MO KIO AVE 4  01 TO 03    \n",
       "3 2  2017-01 ANG MO KIO 3 ROOM    602   ANG MO KIO AVE 5  01 TO 03    \n",
       "4 3  2017-01 ANG MO KIO 3 ROOM    465   ANG MO KIO AVE 10 04 TO 06    \n",
       "5 4  2017-01 ANG MO KIO 3 ROOM    601   ANG MO KIO AVE 5  01 TO 03    \n",
       "6 5  2017-01 ANG MO KIO 3 ROOM    150   ANG MO KIO AVE 5  01 TO 03    \n",
       "  floor_area_sqm flat_model     lease_commence_date remaining_lease\n",
       "1 44             Improved       1979                61.33          \n",
       "2 67             New Generation 1978                60.58          \n",
       "3 67             New Generation 1980                62.42          \n",
       "4 68             New Generation 1980                62.08          \n",
       "5 67             New Generation 1980                62.42          \n",
       "6 68             New Generation 1981                63.00          \n",
       "  resale_price year months\n",
       "1 232000       61   4     \n",
       "2 250000       60   7     \n",
       "3 262000       62   5     \n",
       "4 265000       62   1     \n",
       "5 265000       62   5     \n",
       "6 275000       63   0     "
      ]
     },
     "metadata": {},
     "output_type": "display_data"
    }
   ],
   "source": [
    "#Load data set and view first few rows \n",
    "\n",
    "resale <- read_csv(\"resale_clean.csv\")\n",
    "head(resale) "
   ]
  },
  {
   "cell_type": "code",
   "execution_count": 3,
   "metadata": {},
   "outputs": [
    {
     "data": {
      "text/html": [
       "<table>\n",
       "<thead><tr><th scope=col>month</th><th scope=col>town</th><th scope=col>flat_type</th><th scope=col>block</th><th scope=col>street_name</th><th scope=col>storey_range</th><th scope=col>floor_area_sqm</th><th scope=col>flat_model</th><th scope=col>lease_commence_date</th><th scope=col>remaining_lease</th><th scope=col>resale_price</th><th scope=col>year</th><th scope=col>months</th><th scope=col>address</th></tr></thead>\n",
       "<tbody>\n",
       "\t<tr><td>2017-01               </td><td>JURONG WEST           </td><td>2 ROOM                </td><td>990A                  </td><td>JURONG WEST ST 93     </td><td>01 TO 03              </td><td>56                    </td><td>Premium Apartment     </td><td>2008                  </td><td>90.58                 </td><td>240000                </td><td>90                    </td><td>7                     </td><td>990A JURONG WEST ST 93</td></tr>\n",
       "\t<tr><td>2017-01               </td><td>JURONG WEST           </td><td>2 ROOM                </td><td>990B                  </td><td>JURONG WEST ST 93     </td><td>07 TO 09              </td><td>52                    </td><td>Premium Apartment     </td><td>2008                  </td><td>90.58                 </td><td>258000                </td><td>90                    </td><td>7                     </td><td>990B JURONG WEST ST 93</td></tr>\n",
       "\t<tr><td>2017-01               </td><td>JURONG WEST           </td><td>3 ROOM                </td><td>185                   </td><td>BOON LAY AVE          </td><td>19 TO 21              </td><td>59                    </td><td>Improved              </td><td>1975                  </td><td>57.75                 </td><td>240000                </td><td>57                    </td><td>9                     </td><td>185 BOON LAY AVE      </td></tr>\n",
       "\t<tr><td>2017-01               </td><td>JURONG WEST           </td><td>3 ROOM                </td><td>119                   </td><td>HO CHING RD           </td><td>01 TO 03              </td><td>67                    </td><td>Improved              </td><td>1972                  </td><td>54.00                 </td><td>240000                </td><td>54                    </td><td>0                     </td><td>119 HO CHING RD       </td></tr>\n",
       "\t<tr><td>2017-01               </td><td>JURONG WEST           </td><td>3 ROOM                </td><td>174                   </td><td>BOON LAY DR           </td><td>04 TO 06              </td><td>59                    </td><td>Improved              </td><td>1978                  </td><td>60.50                 </td><td>245000                </td><td>60                    </td><td>6                     </td><td>174 BOON LAY DR       </td></tr>\n",
       "\t<tr><td>2017-01               </td><td>JURONG WEST           </td><td>3 ROOM                </td><td>113                   </td><td>TAO CHING RD          </td><td>07 TO 09              </td><td>67                    </td><td>Improved              </td><td>1971                  </td><td>53.42                 </td><td>245000                </td><td>53                    </td><td>5                     </td><td>113 TAO CHING RD      </td></tr>\n",
       "</tbody>\n",
       "</table>\n"
      ],
      "text/latex": [
       "\\begin{tabular}{r|llllllllllllll}\n",
       " month & town & flat\\_type & block & street\\_name & storey\\_range & floor\\_area\\_sqm & flat\\_model & lease\\_commence\\_date & remaining\\_lease & resale\\_price & year & months & address\\\\\n",
       "\\hline\n",
       "\t 2017-01                & JURONG WEST            & 2 ROOM                 & 990A                   & JURONG WEST ST 93      & 01 TO 03               & 56                     & Premium Apartment      & 2008                   & 90.58                  & 240000                 & 90                     & 7                      & 990A JURONG WEST ST 93\\\\\n",
       "\t 2017-01                & JURONG WEST            & 2 ROOM                 & 990B                   & JURONG WEST ST 93      & 07 TO 09               & 52                     & Premium Apartment      & 2008                   & 90.58                  & 258000                 & 90                     & 7                      & 990B JURONG WEST ST 93\\\\\n",
       "\t 2017-01                & JURONG WEST            & 3 ROOM                 & 185                    & BOON LAY AVE           & 19 TO 21               & 59                     & Improved               & 1975                   & 57.75                  & 240000                 & 57                     & 9                      & 185 BOON LAY AVE      \\\\\n",
       "\t 2017-01                & JURONG WEST            & 3 ROOM                 & 119                    & HO CHING RD            & 01 TO 03               & 67                     & Improved               & 1972                   & 54.00                  & 240000                 & 54                     & 0                      & 119 HO CHING RD       \\\\\n",
       "\t 2017-01                & JURONG WEST            & 3 ROOM                 & 174                    & BOON LAY DR            & 04 TO 06               & 59                     & Improved               & 1978                   & 60.50                  & 245000                 & 60                     & 6                      & 174 BOON LAY DR       \\\\\n",
       "\t 2017-01                & JURONG WEST            & 3 ROOM                 & 113                    & TAO CHING RD           & 07 TO 09               & 67                     & Improved               & 1971                   & 53.42                  & 245000                 & 53                     & 5                      & 113 TAO CHING RD      \\\\\n",
       "\\end{tabular}\n"
      ],
      "text/markdown": [
       "\n",
       "| month | town | flat_type | block | street_name | storey_range | floor_area_sqm | flat_model | lease_commence_date | remaining_lease | resale_price | year | months | address |\n",
       "|---|---|---|---|---|---|---|---|---|---|---|---|---|---|\n",
       "| 2017-01                | JURONG WEST            | 2 ROOM                 | 990A                   | JURONG WEST ST 93      | 01 TO 03               | 56                     | Premium Apartment      | 2008                   | 90.58                  | 240000                 | 90                     | 7                      | 990A JURONG WEST ST 93 |\n",
       "| 2017-01                | JURONG WEST            | 2 ROOM                 | 990B                   | JURONG WEST ST 93      | 07 TO 09               | 52                     | Premium Apartment      | 2008                   | 90.58                  | 258000                 | 90                     | 7                      | 990B JURONG WEST ST 93 |\n",
       "| 2017-01                | JURONG WEST            | 3 ROOM                 | 185                    | BOON LAY AVE           | 19 TO 21               | 59                     | Improved               | 1975                   | 57.75                  | 240000                 | 57                     | 9                      | 185 BOON LAY AVE       |\n",
       "| 2017-01                | JURONG WEST            | 3 ROOM                 | 119                    | HO CHING RD            | 01 TO 03               | 67                     | Improved               | 1972                   | 54.00                  | 240000                 | 54                     | 0                      | 119 HO CHING RD        |\n",
       "| 2017-01                | JURONG WEST            | 3 ROOM                 | 174                    | BOON LAY DR            | 04 TO 06               | 59                     | Improved               | 1978                   | 60.50                  | 245000                 | 60                     | 6                      | 174 BOON LAY DR        |\n",
       "| 2017-01                | JURONG WEST            | 3 ROOM                 | 113                    | TAO CHING RD           | 07 TO 09               | 67                     | Improved               | 1971                   | 53.42                  | 245000                 | 53                     | 5                      | 113 TAO CHING RD       |\n",
       "\n"
      ],
      "text/plain": [
       "  month   town        flat_type block street_name       storey_range\n",
       "1 2017-01 JURONG WEST 2 ROOM    990A  JURONG WEST ST 93 01 TO 03    \n",
       "2 2017-01 JURONG WEST 2 ROOM    990B  JURONG WEST ST 93 07 TO 09    \n",
       "3 2017-01 JURONG WEST 3 ROOM    185   BOON LAY AVE      19 TO 21    \n",
       "4 2017-01 JURONG WEST 3 ROOM    119   HO CHING RD       01 TO 03    \n",
       "5 2017-01 JURONG WEST 3 ROOM    174   BOON LAY DR       04 TO 06    \n",
       "6 2017-01 JURONG WEST 3 ROOM    113   TAO CHING RD      07 TO 09    \n",
       "  floor_area_sqm flat_model        lease_commence_date remaining_lease\n",
       "1 56             Premium Apartment 2008                90.58          \n",
       "2 52             Premium Apartment 2008                90.58          \n",
       "3 59             Improved          1975                57.75          \n",
       "4 67             Improved          1972                54.00          \n",
       "5 59             Improved          1978                60.50          \n",
       "6 67             Improved          1971                53.42          \n",
       "  resale_price year months address               \n",
       "1 240000       90   7      990A JURONG WEST ST 93\n",
       "2 258000       90   7      990B JURONG WEST ST 93\n",
       "3 240000       57   9      185 BOON LAY AVE      \n",
       "4 240000       54   0      119 HO CHING RD       \n",
       "5 245000       60   6      174 BOON LAY DR       \n",
       "6 245000       53   5      113 TAO CHING RD      "
      ]
     },
     "metadata": {},
     "output_type": "display_data"
    }
   ],
   "source": [
    "#Create a new data set containing only rows in Jurong West, Tampines and Woodlands.\n",
    "\n",
    "resale_3towns <- resale %>% \n",
    "            subset(select = -X1) %>%\n",
    "            mutate(address = paste(block, street_name))\n",
    "\n",
    "resale_3towns <- filter(resale_3towns, town %in% c('JURONG WEST', 'TAMPINES','WOODLANDS'))\n",
    "\n",
    "\n",
    "head(resale_3towns)"
   ]
  },
  {
   "cell_type": "code",
   "execution_count": 4,
   "metadata": {},
   "outputs": [
    {
     "name": "stdout",
     "output_type": "stream",
     "text": [
      "Observations: 13,165\n",
      "Variables: 14\n",
      "$ month               <chr> \"2017-01\", \"2017-01\", \"2017-01\", \"2017-01\", \"20...\n",
      "$ town                <chr> \"JURONG WEST\", \"JURONG WEST\", \"JURONG WEST\", \"J...\n",
      "$ flat_type           <chr> \"2 ROOM\", \"2 ROOM\", \"3 ROOM\", \"3 ROOM\", \"3 ROOM...\n",
      "$ block               <chr> \"990A\", \"990B\", \"185\", \"119\", \"174\", \"113\", \"17...\n",
      "$ street_name         <chr> \"JURONG WEST ST 93\", \"JURONG WEST ST 93\", \"BOON...\n",
      "$ storey_range        <chr> \"01 TO 03\", \"07 TO 09\", \"19 TO 21\", \"01 TO 03\",...\n",
      "$ floor_area_sqm      <dbl> 56, 52, 59, 67, 59, 67, 59, 67, 73, 64, 73, 73,...\n",
      "$ flat_model          <chr> \"Premium Apartment\", \"Premium Apartment\", \"Impr...\n",
      "$ lease_commence_date <dbl> 2008, 2008, 1975, 1972, 1978, 1971, 1978, 1972,...\n",
      "$ remaining_lease     <dbl> 90.58, 90.58, 57.75, 54.00, 60.50, 53.42, 60.50...\n",
      "$ resale_price        <dbl> 240000, 258000, 240000, 240000, 245000, 245000,...\n",
      "$ year                <dbl> 90, 90, 57, 54, 60, 53, 60, 54, 70, 67, 71, 70,...\n",
      "$ months              <dbl> 7, 7, 9, 0, 6, 5, 6, 0, 6, 5, 4, 6, 0, 10, 7, 6...\n",
      "$ address             <chr> \"990A JURONG WEST ST 93\", \"990B JURONG WEST ST ...\n"
     ]
    }
   ],
   "source": [
    "glimpse(resale_3towns)"
   ]
  },
  {
   "cell_type": "code",
   "execution_count": 5,
   "metadata": {},
   "outputs": [],
   "source": [
    "#Create a function that takes in a human readable address and geocodes to obtain the exact longitude and latitude\n",
    "#We will use the Google geocoding API to perform this function \n",
    "\n",
    "get_lonlat <- function(x) {\n",
    "    geocode(x)\n",
    "}"
   ]
  },
  {
   "cell_type": "code",
   "execution_count": 6,
   "metadata": {
    "scrolled": true
   },
   "outputs": [],
   "source": [
    "#lon_lat <- get_lonlat(resale_3towns$address)"
   ]
  },
  {
   "cell_type": "code",
   "execution_count": 7,
   "metadata": {},
   "outputs": [
    {
     "ename": "ERROR",
     "evalue": "Error in as.data.frame(y): object 'lon_lat' not found\n",
     "output_type": "error",
     "traceback": [
      "Error in as.data.frame(y): object 'lon_lat' not found\nTraceback:\n",
      "1. merge(resale_3towns, lon_lat, by = \"row.names\", quiet = TRUE)",
      "2. merge.data.frame(resale_3towns, lon_lat, by = \"row.names\", quiet = TRUE)",
      "3. nrow(y <- as.data.frame(y))",
      "4. as.data.frame(y)"
     ]
    }
   ],
   "source": [
    "#Merge the data set containing the longitude and latitude with the original data set \n",
    "\n",
    "resale_geocoded <- merge(resale_3towns, lon_lat, by=\"row.names\", quiet = TRUE)\n",
    "resale_geocoded <- subset(resale_geocoded, select = -Row.names)\n",
    "head(resale_geocoded)"
   ]
  },
  {
   "cell_type": "code",
   "execution_count": null,
   "metadata": {},
   "outputs": [],
   "source": [
    "#Export the new geocoded data set \n",
    "\n",
    "write.csv(resale_geocoded, \"resale_geocoded_3towns.csv\")"
   ]
  },
  {
   "cell_type": "markdown",
   "metadata": {},
   "source": [
    "## Data Cleaning and Vetting\n",
    "This section is primarily to check for any errors in the data and clean it where necessary. We will manually code and assign the correct longitudes and latitudes to rows with incorrect longitude/latitude values. "
   ]
  },
  {
   "cell_type": "code",
   "execution_count": 85,
   "metadata": {},
   "outputs": [],
   "source": [
    "#Load the relevant packages\n",
    "\n",
    "library(mdsr)\n",
    "library(dplyr)\n",
    "library(readr)"
   ]
  },
  {
   "cell_type": "code",
   "execution_count": 86,
   "metadata": {
    "scrolled": true
   },
   "outputs": [
    {
     "name": "stderr",
     "output_type": "stream",
     "text": [
      "Warning message:\n",
      "\"Missing column names filled in: 'X1' [1]\"Parsed with column specification:\n",
      "cols(\n",
      "  X1 = col_double(),\n",
      "  month = col_character(),\n",
      "  town = col_character(),\n",
      "  flat_type = col_character(),\n",
      "  block = col_character(),\n",
      "  street_name = col_character(),\n",
      "  storey_range = col_character(),\n",
      "  floor_area_sqm = col_double(),\n",
      "  flat_model = col_character(),\n",
      "  lease_commence_date = col_double(),\n",
      "  remaining_lease = col_double(),\n",
      "  resale_price = col_double(),\n",
      "  year = col_double(),\n",
      "  months = col_double(),\n",
      "  address = col_character(),\n",
      "  lon = col_double(),\n",
      "  lat = col_double()\n",
      ")\n"
     ]
    },
    {
     "data": {
      "text/html": [
       "<table>\n",
       "<thead><tr><th scope=col>month</th><th scope=col>town</th><th scope=col>flat_type</th><th scope=col>block</th><th scope=col>street_name</th><th scope=col>storey_range</th><th scope=col>floor_area_sqm</th><th scope=col>flat_model</th><th scope=col>lease_commence_date</th><th scope=col>remaining_lease</th><th scope=col>resale_price</th><th scope=col>year</th><th scope=col>months</th><th scope=col>address</th><th scope=col>lon</th><th scope=col>lat</th></tr></thead>\n",
       "<tbody>\n",
       "\t<tr><td>2017-01               </td><td>JURONG WEST           </td><td>2 ROOM                </td><td>990A                  </td><td>JURONG WEST ST 93     </td><td>01 TO 03              </td><td> 56                   </td><td>Premium Apartment     </td><td>2008                  </td><td>90.58                 </td><td>240000                </td><td>90                    </td><td> 7                    </td><td>990A JURONG WEST ST 93</td><td>103.6951              </td><td>1.335340              </td></tr>\n",
       "\t<tr><td>2017-01               </td><td>JURONG WEST           </td><td>3 ROOM                </td><td>421                   </td><td>JURONG WEST ST 42     </td><td>07 TO 09              </td><td> 64                   </td><td>Simplified            </td><td>1985                  </td><td>67.42                 </td><td>269000                </td><td>67                    </td><td> 5                    </td><td>421 JURONG WEST ST 42 </td><td>103.7272              </td><td>1.350266              </td></tr>\n",
       "\t<tr><td>2017-01               </td><td>JURONG WEST           </td><td>EXECUTIVE             </td><td>274A                  </td><td>JURONG WEST AVE 3     </td><td>04 TO 06              </td><td>126                   </td><td>Apartment             </td><td>2001                  </td><td>83.92                 </td><td>438000                </td><td>83                    </td><td>11                    </td><td>274A JURONG WEST AVE 3</td><td>103.7036              </td><td>1.352374              </td></tr>\n",
       "\t<tr><td>2017-04               </td><td>JURONG WEST           </td><td>5 ROOM                </td><td>517C                  </td><td>JURONG WEST ST 52     </td><td>04 TO 06              </td><td>115                   </td><td>Improved              </td><td>2000                  </td><td>82.17                 </td><td>591000                </td><td>82                    </td><td> 2                    </td><td>517C JURONG WEST ST 52</td><td>103.7201              </td><td>1.345007              </td></tr>\n",
       "\t<tr><td>2019-03               </td><td>WOODLANDS             </td><td>5 ROOM                </td><td>625B                  </td><td>WOODLANDS DR 52       </td><td>10 TO 12              </td><td>122                   </td><td>Improved              </td><td>1998                  </td><td>78.58                 </td><td>435000                </td><td>78                    </td><td> 7                    </td><td>625B WOODLANDS DR 52  </td><td>103.8000              </td><td>1.433428              </td></tr>\n",
       "\t<tr><td>2019-03               </td><td>WOODLANDS             </td><td>5 ROOM                </td><td>555                   </td><td>WOODLANDS DR 53       </td><td>07 TO 09              </td><td>115                   </td><td>Improved              </td><td>1999                  </td><td>79.83                 </td><td>380000                </td><td>79                    </td><td>10                    </td><td>555 WOODLANDS DR 53   </td><td>103.7957              </td><td>1.432327              </td></tr>\n",
       "</tbody>\n",
       "</table>\n"
      ],
      "text/latex": [
       "\\begin{tabular}{r|llllllllllllllll}\n",
       " month & town & flat\\_type & block & street\\_name & storey\\_range & floor\\_area\\_sqm & flat\\_model & lease\\_commence\\_date & remaining\\_lease & resale\\_price & year & months & address & lon & lat\\\\\n",
       "\\hline\n",
       "\t 2017-01                & JURONG WEST            & 2 ROOM                 & 990A                   & JURONG WEST ST 93      & 01 TO 03               &  56                    & Premium Apartment      & 2008                   & 90.58                  & 240000                 & 90                     &  7                     & 990A JURONG WEST ST 93 & 103.6951               & 1.335340              \\\\\n",
       "\t 2017-01                & JURONG WEST            & 3 ROOM                 & 421                    & JURONG WEST ST 42      & 07 TO 09               &  64                    & Simplified             & 1985                   & 67.42                  & 269000                 & 67                     &  5                     & 421 JURONG WEST ST 42  & 103.7272               & 1.350266              \\\\\n",
       "\t 2017-01                & JURONG WEST            & EXECUTIVE              & 274A                   & JURONG WEST AVE 3      & 04 TO 06               & 126                    & Apartment              & 2001                   & 83.92                  & 438000                 & 83                     & 11                     & 274A JURONG WEST AVE 3 & 103.7036               & 1.352374              \\\\\n",
       "\t 2017-04                & JURONG WEST            & 5 ROOM                 & 517C                   & JURONG WEST ST 52      & 04 TO 06               & 115                    & Improved               & 2000                   & 82.17                  & 591000                 & 82                     &  2                     & 517C JURONG WEST ST 52 & 103.7201               & 1.345007              \\\\\n",
       "\t 2019-03                & WOODLANDS              & 5 ROOM                 & 625B                   & WOODLANDS DR 52        & 10 TO 12               & 122                    & Improved               & 1998                   & 78.58                  & 435000                 & 78                     &  7                     & 625B WOODLANDS DR 52   & 103.8000               & 1.433428              \\\\\n",
       "\t 2019-03                & WOODLANDS              & 5 ROOM                 & 555                    & WOODLANDS DR 53        & 07 TO 09               & 115                    & Improved               & 1999                   & 79.83                  & 380000                 & 79                     & 10                     & 555 WOODLANDS DR 53    & 103.7957               & 1.432327              \\\\\n",
       "\\end{tabular}\n"
      ],
      "text/markdown": [
       "\n",
       "| month | town | flat_type | block | street_name | storey_range | floor_area_sqm | flat_model | lease_commence_date | remaining_lease | resale_price | year | months | address | lon | lat |\n",
       "|---|---|---|---|---|---|---|---|---|---|---|---|---|---|---|---|\n",
       "| 2017-01                | JURONG WEST            | 2 ROOM                 | 990A                   | JURONG WEST ST 93      | 01 TO 03               |  56                    | Premium Apartment      | 2008                   | 90.58                  | 240000                 | 90                     |  7                     | 990A JURONG WEST ST 93 | 103.6951               | 1.335340               |\n",
       "| 2017-01                | JURONG WEST            | 3 ROOM                 | 421                    | JURONG WEST ST 42      | 07 TO 09               |  64                    | Simplified             | 1985                   | 67.42                  | 269000                 | 67                     |  5                     | 421 JURONG WEST ST 42  | 103.7272               | 1.350266               |\n",
       "| 2017-01                | JURONG WEST            | EXECUTIVE              | 274A                   | JURONG WEST AVE 3      | 04 TO 06               | 126                    | Apartment              | 2001                   | 83.92                  | 438000                 | 83                     | 11                     | 274A JURONG WEST AVE 3 | 103.7036               | 1.352374               |\n",
       "| 2017-04                | JURONG WEST            | 5 ROOM                 | 517C                   | JURONG WEST ST 52      | 04 TO 06               | 115                    | Improved               | 2000                   | 82.17                  | 591000                 | 82                     |  2                     | 517C JURONG WEST ST 52 | 103.7201               | 1.345007               |\n",
       "| 2019-03                | WOODLANDS              | 5 ROOM                 | 625B                   | WOODLANDS DR 52        | 10 TO 12               | 122                    | Improved               | 1998                   | 78.58                  | 435000                 | 78                     |  7                     | 625B WOODLANDS DR 52   | 103.8000               | 1.433428               |\n",
       "| 2019-03                | WOODLANDS              | 5 ROOM                 | 555                    | WOODLANDS DR 53        | 07 TO 09               | 115                    | Improved               | 1999                   | 79.83                  | 380000                 | 79                     | 10                     | 555 WOODLANDS DR 53    | 103.7957               | 1.432327               |\n",
       "\n"
      ],
      "text/plain": [
       "  month   town        flat_type block street_name       storey_range\n",
       "1 2017-01 JURONG WEST 2 ROOM    990A  JURONG WEST ST 93 01 TO 03    \n",
       "2 2017-01 JURONG WEST 3 ROOM    421   JURONG WEST ST 42 07 TO 09    \n",
       "3 2017-01 JURONG WEST EXECUTIVE 274A  JURONG WEST AVE 3 04 TO 06    \n",
       "4 2017-04 JURONG WEST 5 ROOM    517C  JURONG WEST ST 52 04 TO 06    \n",
       "5 2019-03 WOODLANDS   5 ROOM    625B  WOODLANDS DR 52   10 TO 12    \n",
       "6 2019-03 WOODLANDS   5 ROOM    555   WOODLANDS DR 53   07 TO 09    \n",
       "  floor_area_sqm flat_model        lease_commence_date remaining_lease\n",
       "1  56            Premium Apartment 2008                90.58          \n",
       "2  64            Simplified        1985                67.42          \n",
       "3 126            Apartment         2001                83.92          \n",
       "4 115            Improved          2000                82.17          \n",
       "5 122            Improved          1998                78.58          \n",
       "6 115            Improved          1999                79.83          \n",
       "  resale_price year months address                lon      lat     \n",
       "1 240000       90    7     990A JURONG WEST ST 93 103.6951 1.335340\n",
       "2 269000       67    5     421 JURONG WEST ST 42  103.7272 1.350266\n",
       "3 438000       83   11     274A JURONG WEST AVE 3 103.7036 1.352374\n",
       "4 591000       82    2     517C JURONG WEST ST 52 103.7201 1.345007\n",
       "5 435000       78    7     625B WOODLANDS DR 52   103.8000 1.433428\n",
       "6 380000       79   10     555 WOODLANDS DR 53    103.7957 1.432327"
      ]
     },
     "metadata": {},
     "output_type": "display_data"
    }
   ],
   "source": [
    "#Assign the geocoded data set to a new object \n",
    "\n",
    "resale_geo_edit <- read_csv(\"resale_geocoded_3towns.csv\")\n",
    "resale_geo_edit <- subset(resale_geo_edit, select = -X1)\n",
    "head(resale_geo_edit)"
   ]
  },
  {
   "cell_type": "code",
   "execution_count": 87,
   "metadata": {},
   "outputs": [
    {
     "data": {
      "text/plain": [
       "    month               town            flat_type            block          \n",
       " Length:13165       Length:13165       Length:13165       Length:13165      \n",
       " Class :character   Class :character   Class :character   Class :character  \n",
       " Mode  :character   Mode  :character   Mode  :character   Mode  :character  \n",
       "                                                                            \n",
       "                                                                            \n",
       "                                                                            \n",
       "                                                                            \n",
       " street_name        storey_range       floor_area_sqm   flat_model       \n",
       " Length:13165       Length:13165       Min.   : 37.0   Length:13165      \n",
       " Class :character   Class :character   1st Qu.: 91.0   Class :character  \n",
       " Mode  :character   Mode  :character   Median :104.0   Mode  :character  \n",
       "                                       Mean   :104.7                     \n",
       "                                       3rd Qu.:121.0                     \n",
       "                                       Max.   :192.0                     \n",
       "                                                                         \n",
       " lease_commence_date remaining_lease  resale_price         year      \n",
       " Min.   :1970        Min.   :50.00   Min.   :170000   Min.   :50.00  \n",
       " 1st Qu.:1986        1st Qu.:67.00   1st Qu.:328000   1st Qu.:67.00  \n",
       " Median :1996        Median :76.75   Median :392000   Median :76.00  \n",
       " Mean   :1994        Mean   :75.24   Mean   :408686   Mean   :74.78  \n",
       " 3rd Qu.:2000        3rd Qu.:81.00   3rd Qu.:465000   3rd Qu.:81.00  \n",
       " Max.   :2015        Max.   :95.92   Max.   :990000   Max.   :95.00  \n",
       "                                                                     \n",
       "     months        address               lon              lat        \n",
       " Min.   : 0.00   Length:13165       Min.   :-77.34   Min.   : 1.327  \n",
       " 1st Qu.: 3.00   Class :character   1st Qu.:103.72   1st Qu.: 1.346  \n",
       " Median : 5.00   Mode  :character   Median :103.79   Median : 1.353  \n",
       " Mean   : 5.52                      Mean   :103.12   Mean   : 1.539  \n",
       " 3rd Qu.: 9.00                      3rd Qu.:103.94   3rd Qu.: 1.434  \n",
       " Max.   :11.00                      Max.   :103.96   Max.   :43.128  \n",
       "                                    NA's   :11       NA's   :11      "
      ]
     },
     "metadata": {},
     "output_type": "display_data"
    }
   ],
   "source": [
    "summary(resale_geo_edit)"
   ]
  },
  {
   "cell_type": "code",
   "execution_count": 97,
   "metadata": {},
   "outputs": [],
   "source": [
    "#Filter out rows with strange longitude/latitude values \n",
    "\n",
    "wrong_lonlat <- filter(resale_geo_edit, lat > 2 | lon < 100)"
   ]
  },
  {
   "cell_type": "code",
   "execution_count": 98,
   "metadata": {},
   "outputs": [
    {
     "data": {
      "text/html": [
       "<table>\n",
       "<thead><tr><th scope=col>month</th><th scope=col>town</th><th scope=col>flat_type</th><th scope=col>block</th><th scope=col>street_name</th><th scope=col>storey_range</th><th scope=col>floor_area_sqm</th><th scope=col>flat_model</th><th scope=col>lease_commence_date</th><th scope=col>remaining_lease</th><th scope=col>resale_price</th><th scope=col>year</th><th scope=col>months</th><th scope=col>address</th><th scope=col>lon</th><th scope=col>lat</th></tr></thead>\n",
       "<tbody>\n",
       "\t<tr><td>2019-04             </td><td>WOODLANDS           </td><td>5 ROOM              </td><td>748                 </td><td>WOODLANDS CIRCLE    </td><td>01 TO 03            </td><td>122                 </td><td>Improved            </td><td>1998                </td><td>77.83               </td><td>363888              </td><td>77                  </td><td>10                  </td><td>748 WOODLANDS CIRCLE</td><td>-77.33863           </td><td>43.12836            </td></tr>\n",
       "\t<tr><td>2019-04             </td><td>WOODLANDS           </td><td>5 ROOM              </td><td>747                 </td><td>WOODLANDS CIRCLE    </td><td>07 TO 09            </td><td>122                 </td><td>Improved            </td><td>1998                </td><td>77.92               </td><td>392500              </td><td>77                  </td><td>11                  </td><td>747 WOODLANDS CIRCLE</td><td>-77.33863           </td><td>43.12836            </td></tr>\n",
       "\t<tr><td>2019-05             </td><td>WOODLANDS           </td><td>4 ROOM              </td><td>728                 </td><td>WOODLANDS CIRCLE    </td><td>04 TO 06            </td><td> 91                 </td><td>Model A2            </td><td>1997                </td><td>77.42               </td><td>310000              </td><td>77                  </td><td> 5                  </td><td>728 WOODLANDS CIRCLE</td><td>-77.33863           </td><td>43.12836            </td></tr>\n",
       "\t<tr><td>2019-05             </td><td>WOODLANDS           </td><td>4 ROOM              </td><td>742                 </td><td>WOODLANDS CIRCLE    </td><td>10 TO 12            </td><td>103                 </td><td>Model A             </td><td>1997                </td><td>77.25               </td><td>313000              </td><td>77                  </td><td> 3                  </td><td>742 WOODLANDS CIRCLE</td><td>-77.33863           </td><td>43.12836            </td></tr>\n",
       "\t<tr><td>2019-05             </td><td>WOODLANDS           </td><td>4 ROOM              </td><td>742                 </td><td>WOODLANDS CIRCLE    </td><td>04 TO 06            </td><td>100                 </td><td>Model A             </td><td>1997                </td><td>77.25               </td><td>330000              </td><td>77                  </td><td> 3                  </td><td>742 WOODLANDS CIRCLE</td><td>-77.33863           </td><td>43.12836            </td></tr>\n",
       "\t<tr><td>2019-06             </td><td>WOODLANDS           </td><td>4 ROOM              </td><td>742                 </td><td>WOODLANDS CIRCLE    </td><td>01 TO 03            </td><td>102                 </td><td>Model A             </td><td>1997                </td><td>77.17               </td><td>294000              </td><td>77                  </td><td> 2                  </td><td>742 WOODLANDS CIRCLE</td><td>-77.33863           </td><td>43.12836            </td></tr>\n",
       "</tbody>\n",
       "</table>\n"
      ],
      "text/latex": [
       "\\begin{tabular}{r|llllllllllllllll}\n",
       " month & town & flat\\_type & block & street\\_name & storey\\_range & floor\\_area\\_sqm & flat\\_model & lease\\_commence\\_date & remaining\\_lease & resale\\_price & year & months & address & lon & lat\\\\\n",
       "\\hline\n",
       "\t 2019-04              & WOODLANDS            & 5 ROOM               & 748                  & WOODLANDS CIRCLE     & 01 TO 03             & 122                  & Improved             & 1998                 & 77.83                & 363888               & 77                   & 10                   & 748 WOODLANDS CIRCLE & -77.33863            & 43.12836            \\\\\n",
       "\t 2019-04              & WOODLANDS            & 5 ROOM               & 747                  & WOODLANDS CIRCLE     & 07 TO 09             & 122                  & Improved             & 1998                 & 77.92                & 392500               & 77                   & 11                   & 747 WOODLANDS CIRCLE & -77.33863            & 43.12836            \\\\\n",
       "\t 2019-05              & WOODLANDS            & 4 ROOM               & 728                  & WOODLANDS CIRCLE     & 04 TO 06             &  91                  & Model A2             & 1997                 & 77.42                & 310000               & 77                   &  5                   & 728 WOODLANDS CIRCLE & -77.33863            & 43.12836            \\\\\n",
       "\t 2019-05              & WOODLANDS            & 4 ROOM               & 742                  & WOODLANDS CIRCLE     & 10 TO 12             & 103                  & Model A              & 1997                 & 77.25                & 313000               & 77                   &  3                   & 742 WOODLANDS CIRCLE & -77.33863            & 43.12836            \\\\\n",
       "\t 2019-05              & WOODLANDS            & 4 ROOM               & 742                  & WOODLANDS CIRCLE     & 04 TO 06             & 100                  & Model A              & 1997                 & 77.25                & 330000               & 77                   &  3                   & 742 WOODLANDS CIRCLE & -77.33863            & 43.12836            \\\\\n",
       "\t 2019-06              & WOODLANDS            & 4 ROOM               & 742                  & WOODLANDS CIRCLE     & 01 TO 03             & 102                  & Model A              & 1997                 & 77.17                & 294000               & 77                   &  2                   & 742 WOODLANDS CIRCLE & -77.33863            & 43.12836            \\\\\n",
       "\\end{tabular}\n"
      ],
      "text/markdown": [
       "\n",
       "| month | town | flat_type | block | street_name | storey_range | floor_area_sqm | flat_model | lease_commence_date | remaining_lease | resale_price | year | months | address | lon | lat |\n",
       "|---|---|---|---|---|---|---|---|---|---|---|---|---|---|---|---|\n",
       "| 2019-04              | WOODLANDS            | 5 ROOM               | 748                  | WOODLANDS CIRCLE     | 01 TO 03             | 122                  | Improved             | 1998                 | 77.83                | 363888               | 77                   | 10                   | 748 WOODLANDS CIRCLE | -77.33863            | 43.12836             |\n",
       "| 2019-04              | WOODLANDS            | 5 ROOM               | 747                  | WOODLANDS CIRCLE     | 07 TO 09             | 122                  | Improved             | 1998                 | 77.92                | 392500               | 77                   | 11                   | 747 WOODLANDS CIRCLE | -77.33863            | 43.12836             |\n",
       "| 2019-05              | WOODLANDS            | 4 ROOM               | 728                  | WOODLANDS CIRCLE     | 04 TO 06             |  91                  | Model A2             | 1997                 | 77.42                | 310000               | 77                   |  5                   | 728 WOODLANDS CIRCLE | -77.33863            | 43.12836             |\n",
       "| 2019-05              | WOODLANDS            | 4 ROOM               | 742                  | WOODLANDS CIRCLE     | 10 TO 12             | 103                  | Model A              | 1997                 | 77.25                | 313000               | 77                   |  3                   | 742 WOODLANDS CIRCLE | -77.33863            | 43.12836             |\n",
       "| 2019-05              | WOODLANDS            | 4 ROOM               | 742                  | WOODLANDS CIRCLE     | 04 TO 06             | 100                  | Model A              | 1997                 | 77.25                | 330000               | 77                   |  3                   | 742 WOODLANDS CIRCLE | -77.33863            | 43.12836             |\n",
       "| 2019-06              | WOODLANDS            | 4 ROOM               | 742                  | WOODLANDS CIRCLE     | 01 TO 03             | 102                  | Model A              | 1997                 | 77.17                | 294000               | 77                   |  2                   | 742 WOODLANDS CIRCLE | -77.33863            | 43.12836             |\n",
       "\n"
      ],
      "text/plain": [
       "  month   town      flat_type block street_name      storey_range\n",
       "1 2019-04 WOODLANDS 5 ROOM    748   WOODLANDS CIRCLE 01 TO 03    \n",
       "2 2019-04 WOODLANDS 5 ROOM    747   WOODLANDS CIRCLE 07 TO 09    \n",
       "3 2019-05 WOODLANDS 4 ROOM    728   WOODLANDS CIRCLE 04 TO 06    \n",
       "4 2019-05 WOODLANDS 4 ROOM    742   WOODLANDS CIRCLE 10 TO 12    \n",
       "5 2019-05 WOODLANDS 4 ROOM    742   WOODLANDS CIRCLE 04 TO 06    \n",
       "6 2019-06 WOODLANDS 4 ROOM    742   WOODLANDS CIRCLE 01 TO 03    \n",
       "  floor_area_sqm flat_model lease_commence_date remaining_lease resale_price\n",
       "1 122            Improved   1998                77.83           363888      \n",
       "2 122            Improved   1998                77.92           392500      \n",
       "3  91            Model A2   1997                77.42           310000      \n",
       "4 103            Model A    1997                77.25           313000      \n",
       "5 100            Model A    1997                77.25           330000      \n",
       "6 102            Model A    1997                77.17           294000      \n",
       "  year months address              lon       lat     \n",
       "1 77   10     748 WOODLANDS CIRCLE -77.33863 43.12836\n",
       "2 77   11     747 WOODLANDS CIRCLE -77.33863 43.12836\n",
       "3 77    5     728 WOODLANDS CIRCLE -77.33863 43.12836\n",
       "4 77    3     742 WOODLANDS CIRCLE -77.33863 43.12836\n",
       "5 77    3     742 WOODLANDS CIRCLE -77.33863 43.12836\n",
       "6 77    2     742 WOODLANDS CIRCLE -77.33863 43.12836"
      ]
     },
     "metadata": {},
     "output_type": "display_data"
    }
   ],
   "source": [
    "head(wrong_lonlat)"
   ]
  },
  {
   "cell_type": "code",
   "execution_count": 99,
   "metadata": {},
   "outputs": [
    {
     "data": {
      "text/html": [
       "<table>\n",
       "<thead><tr><th scope=col>address</th><th scope=col>N</th></tr></thead>\n",
       "<tbody>\n",
       "\t<tr><td>721 WOODLANDS CIRCLE</td><td> 6                  </td></tr>\n",
       "\t<tr><td>728 WOODLANDS CIRCLE</td><td>15                  </td></tr>\n",
       "\t<tr><td>739 WOODLANDS CIRCLE</td><td>11                  </td></tr>\n",
       "\t<tr><td>742 WOODLANDS CIRCLE</td><td>11                  </td></tr>\n",
       "\t<tr><td>747 WOODLANDS CIRCLE</td><td> 4                  </td></tr>\n",
       "\t<tr><td>748 WOODLANDS CIRCLE</td><td> 3                  </td></tr>\n",
       "</tbody>\n",
       "</table>\n"
      ],
      "text/latex": [
       "\\begin{tabular}{r|ll}\n",
       " address & N\\\\\n",
       "\\hline\n",
       "\t 721 WOODLANDS CIRCLE &  6                  \\\\\n",
       "\t 728 WOODLANDS CIRCLE & 15                  \\\\\n",
       "\t 739 WOODLANDS CIRCLE & 11                  \\\\\n",
       "\t 742 WOODLANDS CIRCLE & 11                  \\\\\n",
       "\t 747 WOODLANDS CIRCLE &  4                  \\\\\n",
       "\t 748 WOODLANDS CIRCLE &  3                  \\\\\n",
       "\\end{tabular}\n"
      ],
      "text/markdown": [
       "\n",
       "| address | N |\n",
       "|---|---|\n",
       "| 721 WOODLANDS CIRCLE |  6                   |\n",
       "| 728 WOODLANDS CIRCLE | 15                   |\n",
       "| 739 WOODLANDS CIRCLE | 11                   |\n",
       "| 742 WOODLANDS CIRCLE | 11                   |\n",
       "| 747 WOODLANDS CIRCLE |  4                   |\n",
       "| 748 WOODLANDS CIRCLE |  3                   |\n",
       "\n"
      ],
      "text/plain": [
       "  address              N \n",
       "1 721 WOODLANDS CIRCLE  6\n",
       "2 728 WOODLANDS CIRCLE 15\n",
       "3 739 WOODLANDS CIRCLE 11\n",
       "4 742 WOODLANDS CIRCLE 11\n",
       "5 747 WOODLANDS CIRCLE  4\n",
       "6 748 WOODLANDS CIRCLE  3"
      ]
     },
     "metadata": {},
     "output_type": "display_data"
    }
   ],
   "source": [
    "#Group the wrong_lonlat dataset by address and count the number of entries per address \n",
    "\n",
    "wrong_lonlat %>% group_by(address) %>% summarize(N=n())"
   ]
  },
  {
   "cell_type": "markdown",
   "metadata": {},
   "source": [
    "We obtain the correct longitude and latitude values from Google Maps and map them manually to each address. \n",
    "(There are a few addresses not reflected in the above output as there was some error mapping them previously before it as discovered and rectified)\n",
    "\n",
    "721 Woodlands Circle - lat: 1.444043, lon: 103.800338  \n",
    "728 Woodlands Circle - lat: 1.442956, lon: 103.798970  \n",
    "738 Woodlands Circle - lat: 1.444187, lon: 103.797592  \n",
    "739 Woodlands Circle - lat: 1.444075, lon: 103.796771  \n",
    "742 Woodlands Circle - lat: 1.443932, lon: 103.795862  \n",
    "747 Woodlands Circle - lat: 1.443205, lon: 103.795067  \n",
    "748 Woodlands Circle - lat: 1.445343, lon: 103.795202  \n",
    "751 Woodlands Circle - lat: 1.445139, lon: 103.794319  "
   ]
  },
  {
   "cell_type": "code",
   "execution_count": 105,
   "metadata": {},
   "outputs": [],
   "source": [
    "#Create a function that takes in a dataset (x)\n",
    "#Checks the exact address, and replaces the longitude/latitude values if there is a match\n",
    "\n",
    "clean_address <- function(x) {\n",
    "    x %>% \n",
    "    mutate(lon=ifelse(address == '721 WOODLANDS CIRCLE', 103.800338, lon),\n",
    "           lat=ifelse(address == '721 WOODLANDS CIRCLE', 1.444043, lat)) %>%\n",
    "    mutate(lon=ifelse(address == '728 WOODLANDS CIRCLE', 103.798970, lon),\n",
    "           lat=ifelse(address == '728 WOODLANDS CIRCLE', 1.442956, lat)) %>%\n",
    "    mutate(lon=ifelse(address == '738 WOODLANDS CIRCLE', 103.797592, lon),\n",
    "           lat=ifelse(address == '738 WOODLANDS CIRCLE', 1.444187, lat)) %>%\n",
    "    mutate(lon=ifelse(address == '739 WOODLANDS CIRCLE', 103.796771, lon),\n",
    "           lat=ifelse(address == '739 WOODLANDS CIRCLE', 1.444075, lat)) %>%\n",
    "    mutate(lon=ifelse(address == '742 WOODLANDS CIRCLE', 103.795862, lon),\n",
    "           lat=ifelse(address == '742 WOODLANDS CIRCLE', 1.443932, lat)) %>%\n",
    "    mutate(lon=ifelse(address == '747 WOODLANDS CIRCLE', 103.795067, lon),\n",
    "           lat=ifelse(address == '747 WOODLANDS CIRCLE', 1.443205, lat)) %>%\n",
    "    mutate(lon=ifelse(address == '748 WOODLANDS CIRCLE', 103.795202, lon),\n",
    "           lat=ifelse(address == '748 WOODLANDS CIRCLE', 1.445343, lat)) %>%\n",
    "    mutate(lon=ifelse(address == '751 WOODLANDS CIRCLE', 103.794319, lon),\n",
    "           lat=ifelse(address == '751 WOODLANDS CIRCLE', 1.445139, lat))\n",
    "}"
   ]
  },
  {
   "cell_type": "code",
   "execution_count": 101,
   "metadata": {},
   "outputs": [],
   "source": [
    "#Apply the function above to the original dataset and map it to a new object called 'resale_clean'\n",
    "\n",
    "resale_clean <- resale_geo_edit %>%\n",
    "do(clean_address(.))"
   ]
  },
  {
   "cell_type": "code",
   "execution_count": 106,
   "metadata": {},
   "outputs": [],
   "source": [
    "#Check if there are any more rows with strange longitude/latitude values \n",
    "\n",
    "wrong_lonlat <- filter(resale_clean, lon < 100 | lat > 2)"
   ]
  },
  {
   "cell_type": "code",
   "execution_count": 108,
   "metadata": {},
   "outputs": [
    {
     "data": {
      "text/html": [
       "<table>\n",
       "<thead><tr><th scope=col>address</th><th scope=col>N</th></tr></thead>\n",
       "<tbody>\n",
       "</tbody>\n",
       "</table>\n"
      ],
      "text/latex": [
       "\\begin{tabular}{r|ll}\n",
       " address & N\\\\\n",
       "\\hline\n",
       "\\end{tabular}\n"
      ],
      "text/markdown": [
       "\n",
       "| address | N |\n",
       "|---|---|\n",
       "\n"
      ],
      "text/plain": [
       "     address N"
      ]
     },
     "metadata": {},
     "output_type": "display_data"
    }
   ],
   "source": [
    "#There shouldn't be any rows with the wrong longitude and latitude values \n",
    "\n",
    "wrong_lat %>% group_by(address) %>% summarize(N=n())"
   ]
  },
  {
   "cell_type": "code",
   "execution_count": 109,
   "metadata": {},
   "outputs": [],
   "source": [
    "#Export the clean data set for dashboarding and data visualisation\n",
    "\n",
    "write.csv(resale_clean, \"resale_geocoded_3towns.csv\")"
   ]
  },
  {
   "cell_type": "code",
   "execution_count": null,
   "metadata": {},
   "outputs": [],
   "source": []
  }
 ],
 "metadata": {
  "kernelspec": {
   "display_name": "R",
   "language": "R",
   "name": "ir"
  },
  "language_info": {
   "codemirror_mode": "r",
   "file_extension": ".r",
   "mimetype": "text/x-r-source",
   "name": "R",
   "pygments_lexer": "r",
   "version": "3.6.0"
  }
 },
 "nbformat": 4,
 "nbformat_minor": 2
}
